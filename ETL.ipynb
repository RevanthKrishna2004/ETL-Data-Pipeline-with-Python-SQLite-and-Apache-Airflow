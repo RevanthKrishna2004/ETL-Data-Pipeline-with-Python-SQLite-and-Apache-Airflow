{
 "cells": [
  {
   "cell_type": "markdown",
   "metadata": {},
   "source": [
    "## Build a News ETL Data Pipeline Using Python and SQLite"
   ]
  },
  {
   "cell_type": "markdown",
   "metadata": {},
   "source": [
    "### Task 1: Import Libraries and Connect to the News API"
   ]
  },
  {
   "cell_type": "code",
   "execution_count": 4,
   "metadata": {},
   "outputs": [],
   "source": [
    "import pandas as pd\n",
    "import logging\n",
    "import sqlite3\n",
    "import newsapi\n",
    "from newsapi import NewsApiClient"
   ]
  },
  {
   "cell_type": "code",
   "execution_count": 5,
   "metadata": {},
   "outputs": [],
   "source": [
    "news_api = NewsApiClient(\"2acc3d3e79894baf9b48cc843c0de778\")"
   ]
  },
  {
   "cell_type": "markdown",
   "metadata": {},
   "source": [
    "### Task 2: Retrieve and Print News Articles"
   ]
  },
  {
   "cell_type": "code",
   "execution_count": 6,
   "metadata": {},
   "outputs": [
    {
     "name": "stdout",
     "output_type": "stream",
     "text": [
      "[{'source': {'id': None, 'name': 'Pypi.org'}, 'author': 'michael.bommarito@gmail.com', 'title': 'pyenvsearch 0.1.0', 'description': 'Python library navigation and AI-powered analysis tool for developers and AI agents. Combines traditional code search with LLM-powered package insights.', 'url': 'https://pypi.org/project/pyenvsearch/0.1.0/', 'urlToImage': None, 'publishedAt': '2025-08-25T01:15:20Z', 'content': 'A required part of this site couldnt load. This may be due to a browser\\r\\n extension, network issues, or browser settings. Please check your\\r\\n connection, disable any ad blockers, or try using a diffe… [+12 chars]'}, {'source': {'id': None, 'name': 'Pypi.org'}, 'author': 'michael.bommarito@gmail.com', 'title': 'pyenvsearch added to PyPI', 'description': 'Python library navigation and AI-powered analysis tool for developers and AI agents. Combines traditional code search with LLM-powered package insights.', 'url': 'https://pypi.org/project/pyenvsearch/', 'urlToImage': None, 'publishedAt': '2025-08-25T01:15:20Z', 'content': 'A required part of this site couldnt load. This may be due to a browser\\r\\n extension, network issues, or browser settings. Please check your\\r\\n connection, disable any ad blockers, or try using a diffe… [+12 chars]'}, {'source': {'id': 'next-big-future', 'name': 'Next Big Future'}, 'author': 'Brian Wang', 'title': 'XAI, Google, OpenAI and Meta Race to Gigawatts of AI Data Centers', 'description': 'XAI Grok 1 launched in November 2023 using rented Oracle GPUs, but xAI shifted to in-house builds due to compute shortages. Colossus 1 in Memphis: Built in a former Electrolux factory, it reached 100,000 NVIDIA H100 GPUs in 122 days (May 3 to September 2, 202…', 'url': 'https://www.nextbigfuture.com/2025/08/xai-google-openai-and-meta-race-to-gigawatts-of-ai-data-centers.html', 'urlToImage': 'https://nextbigfuture.s3.amazonaws.com/uploads/2025/07/xaipower2GW-1-1024x576.jpg', 'publishedAt': '2025-08-25T01:14:57Z', 'content': 'XAI Grok 1 launched in November 2023 using rented Oracle GPUs, but xAI shifted to in-house builds due to compute shortages. \\r\\nColossus 1 in Memphis: Built in a former Electrolux factory, it reached 1… [+4557 chars]'}]\n"
     ]
    }
   ],
   "source": [
    "def extract_news_data():\n",
    "    try:\n",
    "        res = news_api.get_everything(q=\"AI\", language=\"en\",sort_by='publishedAt')\n",
    "        logging.info(\"Connection is successful.\")\n",
    "        return res[\"articles\"]\n",
    "    except Exception as e:\n",
    "        logging.error(f\"Connection is unsuccessful. Error: {e}\")\n",
    "        return None\n",
    "\n",
    "articles = extract_news_data()\n",
    "\n",
    "print(articles[:3])"
   ]
  },
  {
   "cell_type": "markdown",
   "metadata": {},
   "source": [
    "### Task 3: Clean Author Column"
   ]
  },
  {
   "cell_type": "code",
   "execution_count": 7,
   "metadata": {},
   "outputs": [],
   "source": [
    "def clean_author_column(text):\n",
    "    try:\n",
    "        return text.split(\",\")[0].title()\n",
    "    except AttributeError:\n",
    "        return \"No Author\"\n",
    "    "
   ]
  },
  {
   "cell_type": "markdown",
   "metadata": {},
   "source": [
    "### Task 4: Transform News Data"
   ]
  },
  {
   "cell_type": "code",
   "execution_count": 8,
   "metadata": {},
   "outputs": [],
   "source": [
    "def transform_news_data(articles):\n",
    "    article_list = []\n",
    "    for i in articles:\n",
    "        article_list.append([value.get(\"name\", 0) if key == \"source\" else value for key, value in i.items() if key in [\"author\", \"title\", \"publishedAt\", \"content\", \"url\", \"source\"]])\n",
    "\n",
    "    df = pd.DataFrame(article_list, columns=[\"Source\", \"Author Name\", \"News Title\", \"URL\", \"Date Published\", \"Content\"])\n",
    "\n",
    "    df[\"Date Published\"] = pd.to_datetime(df[\"Date Published\"]).dt.strftime('%Y-%m-%d %H:%M:%S')\n",
    "    df[\"Author Name\"] = df[\"Author Name\"].apply(clean_author_column)\n",
    " \n",
    "    return df\n",
    "t = transform_news_data(articles)\n",
    "\n",
    "#print(t)"
   ]
  },
  {
   "cell_type": "markdown",
   "metadata": {},
   "source": [
    "### Task 5: Load the Data into SQLite Database\n"
   ]
  },
  {
   "cell_type": "code",
   "execution_count": 11,
   "metadata": {},
   "outputs": [],
   "source": [
    "def load_news_data(data):\n",
    "    with sqlite3.connect(\"/usercode/news_data.sqlite\") as connection:\n",
    "        cursor = connection.cursor()\n",
    "        cursor.execute('''\n",
    "            CREATE TABLE IF NOT EXISTS news_table (\n",
    "                \"Source\" VARCHAR(30),\n",
    "                \"Author Name\" TEXT,\n",
    "                \"News Title\" TEXT,\n",
    "                \"URL\" TEXT,\n",
    "                \"Date Published\" TEXT,\n",
    "                \"Content\" TEXT\n",
    "            )\n",
    "        ''')\n",
    "    data.to_sql(name=\"news_table\", con=connection, index=False, if_exists=\"append\")\n",
    " \n",
    "load_news_data(t)"
   ]
  },
  {
   "cell_type": "markdown",
   "metadata": {},
   "source": [
    "### Task 8: Verify Data Loading"
   ]
  },
  {
   "cell_type": "code",
   "execution_count": 13,
   "metadata": {},
   "outputs": [
    {
     "data": {
      "text/html": [
       "<div>\n",
       "<style scoped>\n",
       "    .dataframe tbody tr th:only-of-type {\n",
       "        vertical-align: middle;\n",
       "    }\n",
       "\n",
       "    .dataframe tbody tr th {\n",
       "        vertical-align: top;\n",
       "    }\n",
       "\n",
       "    .dataframe thead th {\n",
       "        text-align: right;\n",
       "    }\n",
       "</style>\n",
       "<table border=\"1\" class=\"dataframe\">\n",
       "  <thead>\n",
       "    <tr style=\"text-align: right;\">\n",
       "      <th></th>\n",
       "      <th>Source</th>\n",
       "      <th>Author Name</th>\n",
       "      <th>News Title</th>\n",
       "      <th>URL</th>\n",
       "      <th>Date Published</th>\n",
       "      <th>Content</th>\n",
       "    </tr>\n",
       "  </thead>\n",
       "  <tbody>\n",
       "    <tr>\n",
       "      <th>0</th>\n",
       "      <td>Yahoo Entertainment</td>\n",
       "      <td>Simply Wall St</td>\n",
       "      <td>Velesto Energy Berhad Second Quarter 2025 Earn...</td>\n",
       "      <td>https://finance.yahoo.com/news/velesto-energy-...</td>\n",
       "      <td>2025-08-24 01:36:42</td>\n",
       "      <td>&lt;ul&gt;&lt;li&gt;Revenue: RM199.9m (down 49% from 2Q 20...</td>\n",
       "    </tr>\n",
       "    <tr>\n",
       "      <th>1</th>\n",
       "      <td>Pypi.org</td>\n",
       "      <td>Hello@Kumo.Ai</td>\n",
       "      <td>kumoai 2.8.0.dev202508231831</td>\n",
       "      <td>https://pypi.org/project/kumoai/2.8.0.dev20250...</td>\n",
       "      <td>2025-08-24 01:34:43</td>\n",
       "      <td>A required part of this site couldnt load. Thi...</td>\n",
       "    </tr>\n",
       "    <tr>\n",
       "      <th>2</th>\n",
       "      <td>Biztoc.com</td>\n",
       "      <td>Apnews.Com</td>\n",
       "      <td>Shilo Sanders ejected from Buccaneers' preseas...</td>\n",
       "      <td>https://biztoc.com/x/eb95f31ef7d71603</td>\n",
       "      <td>2025-08-24 01:33:35</td>\n",
       "      <td>{ window.open(this.href, '_blank'); }, 200); r...</td>\n",
       "    </tr>\n",
       "    <tr>\n",
       "      <th>3</th>\n",
       "      <td>Buddytv.com</td>\n",
       "      <td>Buddy Tv</td>\n",
       "      <td>‘South Park’ Mocks Donald Trump in Bold New Ep...</td>\n",
       "      <td>https://www.buddytv.com/south-park-mocks-donal...</td>\n",
       "      <td>2025-08-24 01:25:03</td>\n",
       "      <td>South Park has never been shy about tackling c...</td>\n",
       "    </tr>\n",
       "    <tr>\n",
       "      <th>4</th>\n",
       "      <td>Biztoc.com</td>\n",
       "      <td>Investing.Com</td>\n",
       "      <td>Bank of England's Bailey says UK has 'acute ch...</td>\n",
       "      <td>https://biztoc.com/x/179841c00b9f9893</td>\n",
       "      <td>2025-08-24 01:22:17</td>\n",
       "      <td>{ window.open(this.href, '_blank'); }, 200); r...</td>\n",
       "    </tr>\n",
       "  </tbody>\n",
       "</table>\n",
       "</div>"
      ],
      "text/plain": [
       "                Source     Author Name  \\\n",
       "0  Yahoo Entertainment  Simply Wall St   \n",
       "1             Pypi.org   Hello@Kumo.Ai   \n",
       "2           Biztoc.com      Apnews.Com   \n",
       "3          Buddytv.com        Buddy Tv   \n",
       "4           Biztoc.com   Investing.Com   \n",
       "\n",
       "                                          News Title  \\\n",
       "0  Velesto Energy Berhad Second Quarter 2025 Earn...   \n",
       "1                       kumoai 2.8.0.dev202508231831   \n",
       "2  Shilo Sanders ejected from Buccaneers' preseas...   \n",
       "3  ‘South Park’ Mocks Donald Trump in Bold New Ep...   \n",
       "4  Bank of England's Bailey says UK has 'acute ch...   \n",
       "\n",
       "                                                 URL       Date Published  \\\n",
       "0  https://finance.yahoo.com/news/velesto-energy-...  2025-08-24 01:36:42   \n",
       "1  https://pypi.org/project/kumoai/2.8.0.dev20250...  2025-08-24 01:34:43   \n",
       "2              https://biztoc.com/x/eb95f31ef7d71603  2025-08-24 01:33:35   \n",
       "3  https://www.buddytv.com/south-park-mocks-donal...  2025-08-24 01:25:03   \n",
       "4              https://biztoc.com/x/179841c00b9f9893  2025-08-24 01:22:17   \n",
       "\n",
       "                                             Content  \n",
       "0  <ul><li>Revenue: RM199.9m (down 49% from 2Q 20...  \n",
       "1  A required part of this site couldnt load. Thi...  \n",
       "2  { window.open(this.href, '_blank'); }, 200); r...  \n",
       "3  South Park has never been shy about tackling c...  \n",
       "4  { window.open(this.href, '_blank'); }, 200); r...  "
      ]
     },
     "execution_count": 13,
     "metadata": {},
     "output_type": "execute_result"
    }
   ],
   "source": [
    "with sqlite3.connect(\"/usercode/news_data.sqlite\") as connection:\n",
    "    df = pd.read_sql(\"SELECT * FROM news_table;\", connection)\n",
    "df.head()"
   ]
  },
  {
   "cell_type": "code",
   "execution_count": null,
   "metadata": {},
   "outputs": [],
   "source": []
  }
 ],
 "metadata": {
  "kernelspec": {
   "display_name": "Python 3",
   "language": "python",
   "name": "python3"
  },
  "language_info": {
   "codemirror_mode": {
    "name": "ipython",
    "version": 3
   },
   "file_extension": ".py",
   "mimetype": "text/x-python",
   "name": "python",
   "nbconvert_exporter": "python",
   "pygments_lexer": "ipython3",
   "version": "3.8.10 (default, Feb  4 2025, 15:02:54) \n[GCC 9.4.0]"
  },
  "orig_nbformat": 4,
  "vscode": {
   "interpreter": {
    "hash": "916dbcbb3f70747c44a77c7bcd40155683ae19c65e1c03b4aa3499c5328201f1"
   }
  }
 },
 "nbformat": 4,
 "nbformat_minor": 2
}
